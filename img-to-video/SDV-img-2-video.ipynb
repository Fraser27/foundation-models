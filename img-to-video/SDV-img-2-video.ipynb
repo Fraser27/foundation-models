{
 "cells": [
  {
   "cell_type": "markdown",
   "id": "ad911dcd-204a-4ee7-addd-dd74b373e688",
   "metadata": {},
   "source": [
    "# https://huggingface.co/docs/diffusers/main/en/using-diffusers/text-img2vid\n",
    "# Here we are going to try out SVD Stable Diffusion 2.1"
   ]
  },
  {
   "cell_type": "code",
   "execution_count": 1,
   "id": "5dd10ffc-fd87-44c7-92c7-3c63497db8c6",
   "metadata": {},
   "outputs": [
    {
     "name": "stderr",
     "output_type": "stream",
     "text": [
      "/opt/conda/envs/torch_env/lib/python3.10/site-packages/tqdm/auto.py:21: TqdmWarning: IProgress not found. Please update jupyter and ipywidgets. See https://ipywidgets.readthedocs.io/en/stable/user_install.html\n",
      "  from .autonotebook import tqdm as notebook_tqdm\n"
     ]
    }
   ],
   "source": [
    "import torch\n",
    "from diffusers import StableVideoDiffusionPipeline\n",
    "from diffusers.utils import load_image, export_to_video"
   ]
  },
  {
   "cell_type": "code",
   "execution_count": 2,
   "id": "6181e8e9-e1a6-41f0-86e9-197769048570",
   "metadata": {},
   "outputs": [
    {
     "name": "stderr",
     "output_type": "stream",
     "text": [
      "Loading pipeline components...: 100%|████████████████████████████████████████████████████████████████████████████████████████████████████████| 5/5 [00:02<00:00,  2.04it/s]\n"
     ]
    }
   ],
   "source": [
    "pipeline = StableVideoDiffusionPipeline.from_pretrained(\n",
    "    \"stabilityai/stable-video-diffusion-img2vid-xt\", torch_dtype=torch.float16, variant=\"fp16\"\n",
    ")\n",
    "pipeline.enable_model_cpu_offload()"
   ]
  },
  {
   "cell_type": "code",
   "execution_count": 5,
   "id": "1a3beb36-702a-4b0f-8714-4a2a36a4ebfb",
   "metadata": {},
   "outputs": [
    {
     "name": "stderr",
     "output_type": "stream",
     "text": [
      "100%|███████████████████████████████████████████████████████████████████████████████████████████████████████████████████████████████████████████████████████████| 25/25 [01:39<00:00,  3.97s/it]\n"
     ]
    },
    {
     "data": {
      "text/plain": [
       "'generated.mp4'"
      ]
     },
     "execution_count": 5,
     "metadata": {},
     "output_type": "execute_result"
    }
   ],
   "source": [
    "image = load_image(\"https://huggingface.co/datasets/huggingface/documentation-images/resolve/main/diffusers/svd/rocket.png\")\n",
    "image = image.resize((1024, 576))\n",
    "\n",
    "generator = torch.manual_seed(42)\n",
    "frames = pipeline(image, decode_chunk_size=8, generator=generator).frames[0]\n",
    "export_to_video(frames, \"generated.mp4\", fps=7)"
   ]
  },
  {
   "cell_type": "code",
   "execution_count": 3,
   "id": "13b73545-e17a-4dbb-8758-baca8d9d0df4",
   "metadata": {},
   "outputs": [],
   "source": [
    "torch.cuda.empty_cache() "
   ]
  }
 ],
 "metadata": {
  "kernelspec": {
   "display_name": "Conda-torch_env",
   "language": "python",
   "name": "torch_env"
  },
  "language_info": {
   "codemirror_mode": {
    "name": "ipython",
    "version": 3
   },
   "file_extension": ".py",
   "mimetype": "text/x-python",
   "name": "python",
   "nbconvert_exporter": "python",
   "pygments_lexer": "ipython3",
   "version": "3.10.14"
  }
 },
 "nbformat": 4,
 "nbformat_minor": 5
}
